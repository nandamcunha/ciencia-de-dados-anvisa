{
  "nbformat": 4,
  "nbformat_minor": 0,
  "metadata": {
    "colab": {
      "provenance": [],
      "include_colab_link": true
    },
    "kernelspec": {
      "name": "python3",
      "display_name": "Python 3"
    },
    "language_info": {
      "name": "python"
    }
  },
  "cells": [
    {
      "cell_type": "markdown",
      "metadata": {
        "id": "view-in-github",
        "colab_type": "text"
      },
      "source": [
        "<a href=\"https://colab.research.google.com/github/nandamcunha/ciencia-de-dados-anvisa/blob/main/ler_html.ipynb\" target=\"_parent\"><img src=\"https://colab.research.google.com/assets/colab-badge.svg\" alt=\"Open In Colab\"/></a>"
      ]
    },
    {
      "cell_type": "code",
      "execution_count": null,
      "metadata": {
        "id": "bN6AeUOMt3Cr"
      },
      "outputs": [],
      "source": [
        "#!pip install beautifulsoup4\n",
        "#!pip install requests\n",
        "\n",
        "import requests\n",
        "import bs4\n",
        "\n",
        "\n",
        "url = 'https://www.gov.br/anvisa/pt-br/assuntos/noticias-anvisa/2025/dia-mundial-da-saude-e-destaque-da-edicao-de-abril-do-boletim-do-snvs'\n",
        "\n",
        "\n",
        "response = requests.get(url)\n",
        "soup = bs4.BeautifulSoup(response.text, 'html.parser')\n",
        "conteudo = soup.find_all('p')\n",
        "\n",
        "for paragrafo in conteudo:\n",
        "    texto = paragrafo.get_text(strip=True)\n",
        "    if texto:\n",
        "        print(texto)\n",
        "\n",
        "#### ----\n",
        "\n",
        "links = 'https://www.gov.br/anvisa/pt-br/assuntos/noticias-anvisa/2025'\n",
        "\n",
        "response = requests.get(links)\n",
        "soup = bs4.BeautifulSoup(response.text, 'html.parser')\n",
        "\n",
        "lista_link = []\n",
        "\n",
        "#buscar tods os blocos de noticias\n",
        "conteudo = soup.find_all('span',class_=\"summary\")\n",
        "\n",
        "for noticia in conteudo:\n",
        "    link = noticia.find(\"a\")[\"href\"]\n",
        "    lista_link.append(link)\n",
        "\n",
        "lista_link\n",
        "\n",
        "\n",
        "\n",
        "### Criar um loop para extrair os links de todas as páginas\n",
        "lista_dados = []\n",
        "for noticia in conteudo:\n",
        "    link = noticia.find(\"a\")[\"href\"]\n",
        "\n",
        "    try:\n",
        "        response = requests.get(link)\n",
        "        soup = bs4.BeautifulSoup(response.text, 'html.parser')\n",
        "        conteudo = soup.find_all('p')\n",
        "\n",
        "        #juntar todos os parágrafos em uma string\n",
        "        texto = ''.join(p.get_text(strip=True) for p in conteudo if p.get_text(strip=True))\n",
        "        lista_dados.append({\"link\": link, \"texto\": texto})\n",
        "    except:\n",
        "        lista_dados.append({\"link\": link, \"texto\": \"coteudo\"})\n",
        "\n",
        "import pandas as pd\n",
        "df_noticias = pd.DataFrame(lista_dados)"
      ]
    }
  ]
}